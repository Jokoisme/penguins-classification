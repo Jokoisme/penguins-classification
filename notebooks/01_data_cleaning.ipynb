{
  "nbformat": 4,
  "nbformat_minor": 0,
  "metadata": {
    "colab": {
      "provenance": [],
      "authorship_tag": "ABX9TyM3dTTVs7Yb7Li6EdQFoDYo"
    },
    "kernelspec": {
      "name": "python3",
      "display_name": "Python 3"
    },
    "language_info": {
      "name": "python"
    }
  },
  "cells": [
    {
      "cell_type": "code",
      "execution_count": 1,
      "metadata": {
        "id": "d5xGouJ0M-X-"
      },
      "outputs": [],
      "source": [
        "import pandas as pd\n",
        "import seaborn"
      ]
    },
    {
      "cell_type": "code",
      "source": [
        "# Load raw data\n",
        "inputpath = \"https://raw.githubusercontent.com/Jokoisme/penguins-classification/main/data/raw/penguins.csv\"\n",
        "data = pd.read_csv(inputpath, on_bad_lines='skip')"
      ],
      "metadata": {
        "id": "d_HPJrWwWjjx"
      },
      "execution_count": 2,
      "outputs": []
    },
    {
      "cell_type": "code",
      "source": [
        "print(data)"
      ],
      "metadata": {
        "colab": {
          "base_uri": "https://localhost:8080/"
        },
        "id": "cr-FEMOqk3Gb",
        "outputId": "1b1c4e7c-19ac-4026-bae4-a56f1768a35e"
      },
      "execution_count": 3,
      "outputs": [
        {
          "output_type": "stream",
          "name": "stdout",
          "text": [
            "    species     island  bill_length_mm  bill_depth_mm  flipper_length_mm  \\\n",
            "0    Adelie  Torgersen            39.1           18.7              181.0   \n",
            "1    Adelie  Torgersen            39.5           17.4              186.0   \n",
            "2    Adelie  Torgersen            40.3           18.0              195.0   \n",
            "3    Adelie  Torgersen             NaN            NaN                NaN   \n",
            "4    Adelie  Torgersen            36.7           19.3              193.0   \n",
            "..      ...        ...             ...            ...                ...   \n",
            "339  Gentoo     Biscoe             NaN            NaN                NaN   \n",
            "340  Gentoo     Biscoe            46.8           14.3              215.0   \n",
            "341  Gentoo     Biscoe            50.4           15.7              222.0   \n",
            "342  Gentoo     Biscoe            45.2           14.8              212.0   \n",
            "343  Gentoo     Biscoe            49.9           16.1              213.0   \n",
            "\n",
            "     body_mass_g     sex  \n",
            "0         3750.0    MALE  \n",
            "1         3800.0  FEMALE  \n",
            "2         3250.0  FEMALE  \n",
            "3            NaN     NaN  \n",
            "4         3450.0  FEMALE  \n",
            "..           ...     ...  \n",
            "339          NaN     NaN  \n",
            "340       4850.0  FEMALE  \n",
            "341       5750.0    MALE  \n",
            "342       5200.0  FEMALE  \n",
            "343       5400.0    MALE  \n",
            "\n",
            "[344 rows x 7 columns]\n"
          ]
        }
      ]
    },
    {
      "cell_type": "code",
      "source": [
        "# Rename columns\n",
        "data.columns = [col.strip().replace(\" \", \"_\").lower() for col in data.columns]"
      ],
      "metadata": {
        "id": "vtFPj-ABYyFL"
      },
      "execution_count": 4,
      "outputs": []
    },
    {
      "cell_type": "code",
      "source": [
        "# Remove rows that have null value(s)\n",
        "data = data.dropna(how='any',axis=0)"
      ],
      "metadata": {
        "id": "obs5MQuSz4x6"
      },
      "execution_count": 5,
      "outputs": []
    },
    {
      "cell_type": "code",
      "source": [
        "print(data)"
      ],
      "metadata": {
        "colab": {
          "base_uri": "https://localhost:8080/"
        },
        "id": "IrmCwlFCmDvd",
        "outputId": "5dcf53f7-540d-4c60-a81f-1dbaae7146e3"
      },
      "execution_count": 6,
      "outputs": [
        {
          "output_type": "stream",
          "name": "stdout",
          "text": [
            "    species     island  bill_length_mm  bill_depth_mm  flipper_length_mm  \\\n",
            "0    Adelie  Torgersen            39.1           18.7              181.0   \n",
            "1    Adelie  Torgersen            39.5           17.4              186.0   \n",
            "2    Adelie  Torgersen            40.3           18.0              195.0   \n",
            "4    Adelie  Torgersen            36.7           19.3              193.0   \n",
            "5    Adelie  Torgersen            39.3           20.6              190.0   \n",
            "..      ...        ...             ...            ...                ...   \n",
            "338  Gentoo     Biscoe            47.2           13.7              214.0   \n",
            "340  Gentoo     Biscoe            46.8           14.3              215.0   \n",
            "341  Gentoo     Biscoe            50.4           15.7              222.0   \n",
            "342  Gentoo     Biscoe            45.2           14.8              212.0   \n",
            "343  Gentoo     Biscoe            49.9           16.1              213.0   \n",
            "\n",
            "     body_mass_g     sex  \n",
            "0         3750.0    MALE  \n",
            "1         3800.0  FEMALE  \n",
            "2         3250.0  FEMALE  \n",
            "4         3450.0  FEMALE  \n",
            "5         3650.0    MALE  \n",
            "..           ...     ...  \n",
            "338       4925.0  FEMALE  \n",
            "340       4850.0  FEMALE  \n",
            "341       5750.0    MALE  \n",
            "342       5200.0  FEMALE  \n",
            "343       5400.0    MALE  \n",
            "\n",
            "[333 rows x 7 columns]\n"
          ]
        }
      ]
    },
    {
      "cell_type": "code",
      "source": [
        "# Save processed data\n",
        "outputPath = \"https://raw.githubusercontent.com/Jokoisme/penguins-classification/main/data/processed/penguins_processed.csv\"\n",
        "\n",
        "data.to_csv(outputPath, index=False)"
      ],
      "metadata": {
        "id": "1ur2AchNl2bP"
      },
      "execution_count": 7,
      "outputs": []
    }
  ]
}